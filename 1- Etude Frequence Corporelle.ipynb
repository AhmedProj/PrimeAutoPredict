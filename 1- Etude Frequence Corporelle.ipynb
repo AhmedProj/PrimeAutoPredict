{
 "cells": [
  {
   "cell_type": "markdown",
   "metadata": {},
   "source": [
    "# Etude Frequence corporelle \n"
   ]
  },
  {
   "cell_type": "markdown",
   "metadata": {},
   "source": [
    "# Table des matières :\n",
    "\n",
    "* [1 - Initialisation de l'étude](#initialisation)\n",
    "* [2 - Retraitements des données](#retraitements) \n",
    "* [3 - Modèle de Machine Learning](#machineLearning)\n",
    "* [4 - Pricing](#pricing)\n"
   ]
  },
  {
   "cell_type": "markdown",
   "metadata": {},
   "source": [
    "# 1 - Initialisation de l'étude : <a class=\"anchor\" id=\"initialisation\"></a>"
   ]
  },
  {
   "cell_type": "code",
   "execution_count": 81,
   "metadata": {},
   "outputs": [],
   "source": [
    "# Librairies :\n",
    "import pandas as pd\n",
    "import matplotlib.pyplot as plt\n",
    "import seaborn as sns\n",
    "from sklearn.pipeline import Pipeline\n",
    "from sklearn.preprocessing import OneHotEncoder\n",
    "from sklearn.impute import SimpleImputer\n",
    "from sklearn.preprocessing import MaxAbsScaler\n",
    "from sklearn.compose import ColumnTransformer\n",
    "from sklearn.metrics import mean_squared_error, r2_score\n",
    "import numpy as np\n",
    "from sklearn import datasets, linear_model\n",
    "from sklearn.linear_model import LinearRegression\n",
    "import statsmodels.api as sm\n",
    "from scipy import stats\n",
    "from sklearn import preprocessing\n",
    "from sklearn.model_selection import train_test_split, GridSearchCV\n",
    "from sklearn.svm import SVR\n"
   ]
  },
  {
   "cell_type": "code",
   "execution_count": 63,
   "metadata": {},
   "outputs": [
    {
     "data": {
      "text/html": [
       "<div>\n",
       "<style scoped>\n",
       "    .dataframe tbody tr th:only-of-type {\n",
       "        vertical-align: middle;\n",
       "    }\n",
       "\n",
       "    .dataframe tbody tr th {\n",
       "        vertical-align: top;\n",
       "    }\n",
       "\n",
       "    .dataframe thead th {\n",
       "        text-align: right;\n",
       "    }\n",
       "</style>\n",
       "<table border=\"1\" class=\"dataframe\">\n",
       "  <thead>\n",
       "    <tr style=\"text-align: right;\">\n",
       "      <th></th>\n",
       "      <th>PolNum</th>\n",
       "      <th>CalYear</th>\n",
       "      <th>Gender</th>\n",
       "      <th>Type</th>\n",
       "      <th>Category</th>\n",
       "      <th>Occupation</th>\n",
       "      <th>Age</th>\n",
       "      <th>Group1</th>\n",
       "      <th>Bonus</th>\n",
       "      <th>Poldur</th>\n",
       "      <th>Value</th>\n",
       "      <th>Adind</th>\n",
       "      <th>SubGroup2</th>\n",
       "      <th>Group2</th>\n",
       "      <th>Density</th>\n",
       "      <th>Exppdays</th>\n",
       "      <th>Numtppd</th>\n",
       "      <th>Numtpbi</th>\n",
       "      <th>Indtppd</th>\n",
       "      <th>Indtpbi</th>\n",
       "    </tr>\n",
       "  </thead>\n",
       "  <tbody>\n",
       "    <tr>\n",
       "      <th>0</th>\n",
       "      <td>200114978</td>\n",
       "      <td>2009</td>\n",
       "      <td>Male</td>\n",
       "      <td>C</td>\n",
       "      <td>Large</td>\n",
       "      <td>Employed</td>\n",
       "      <td>25</td>\n",
       "      <td>18</td>\n",
       "      <td>85</td>\n",
       "      <td>3</td>\n",
       "      <td>15080.0</td>\n",
       "      <td>0</td>\n",
       "      <td>L46</td>\n",
       "      <td>L</td>\n",
       "      <td>72.012883</td>\n",
       "      <td>365.0</td>\n",
       "      <td>1</td>\n",
       "      <td>0</td>\n",
       "      <td>0.0</td>\n",
       "      <td>0.0</td>\n",
       "    </tr>\n",
       "    <tr>\n",
       "      <th>1</th>\n",
       "      <td>200114994</td>\n",
       "      <td>2009</td>\n",
       "      <td>Male</td>\n",
       "      <td>E</td>\n",
       "      <td>Large</td>\n",
       "      <td>Employed</td>\n",
       "      <td>20</td>\n",
       "      <td>11</td>\n",
       "      <td>30</td>\n",
       "      <td>2</td>\n",
       "      <td>22370.0</td>\n",
       "      <td>1</td>\n",
       "      <td>O38</td>\n",
       "      <td>O</td>\n",
       "      <td>39.550411</td>\n",
       "      <td>365.0</td>\n",
       "      <td>1</td>\n",
       "      <td>0</td>\n",
       "      <td>0.0</td>\n",
       "      <td>0.0</td>\n",
       "    </tr>\n",
       "    <tr>\n",
       "      <th>2</th>\n",
       "      <td>200115001</td>\n",
       "      <td>2009</td>\n",
       "      <td>Female</td>\n",
       "      <td>E</td>\n",
       "      <td>Large</td>\n",
       "      <td>Unemployed</td>\n",
       "      <td>42</td>\n",
       "      <td>11</td>\n",
       "      <td>85</td>\n",
       "      <td>0</td>\n",
       "      <td>39650.0</td>\n",
       "      <td>0</td>\n",
       "      <td>Q28</td>\n",
       "      <td>Q</td>\n",
       "      <td>169.529148</td>\n",
       "      <td>365.0</td>\n",
       "      <td>2</td>\n",
       "      <td>0</td>\n",
       "      <td>0.0</td>\n",
       "      <td>0.0</td>\n",
       "    </tr>\n",
       "    <tr>\n",
       "      <th>3</th>\n",
       "      <td>200115011</td>\n",
       "      <td>2009</td>\n",
       "      <td>Female</td>\n",
       "      <td>C</td>\n",
       "      <td>Medium</td>\n",
       "      <td>Housewife</td>\n",
       "      <td>21</td>\n",
       "      <td>5</td>\n",
       "      <td>0</td>\n",
       "      <td>0</td>\n",
       "      <td>12600.0</td>\n",
       "      <td>1</td>\n",
       "      <td>L6</td>\n",
       "      <td>L</td>\n",
       "      <td>58.894688</td>\n",
       "      <td>365.0</td>\n",
       "      <td>1</td>\n",
       "      <td>0</td>\n",
       "      <td>0.0</td>\n",
       "      <td>0.0</td>\n",
       "    </tr>\n",
       "    <tr>\n",
       "      <th>4</th>\n",
       "      <td>200115015</td>\n",
       "      <td>2009</td>\n",
       "      <td>Female</td>\n",
       "      <td>D</td>\n",
       "      <td>Large</td>\n",
       "      <td>Employed</td>\n",
       "      <td>33</td>\n",
       "      <td>12</td>\n",
       "      <td>30</td>\n",
       "      <td>10</td>\n",
       "      <td>9065.0</td>\n",
       "      <td>0</td>\n",
       "      <td>N4</td>\n",
       "      <td>N</td>\n",
       "      <td>109.631885</td>\n",
       "      <td>365.0</td>\n",
       "      <td>2</td>\n",
       "      <td>0</td>\n",
       "      <td>0.0</td>\n",
       "      <td>0.0</td>\n",
       "    </tr>\n",
       "  </tbody>\n",
       "</table>\n",
       "</div>"
      ],
      "text/plain": [
       "      PolNum  CalYear  Gender Type Category  Occupation  Age  Group1  Bonus  \\\n",
       "0  200114978     2009    Male    C    Large    Employed   25      18     85   \n",
       "1  200114994     2009    Male    E    Large    Employed   20      11     30   \n",
       "2  200115001     2009  Female    E    Large  Unemployed   42      11     85   \n",
       "3  200115011     2009  Female    C   Medium   Housewife   21       5      0   \n",
       "4  200115015     2009  Female    D    Large    Employed   33      12     30   \n",
       "\n",
       "   Poldur    Value  Adind SubGroup2 Group2     Density  Exppdays  Numtppd  \\\n",
       "0       3  15080.0      0       L46      L   72.012883     365.0        1   \n",
       "1       2  22370.0      1       O38      O   39.550411     365.0        1   \n",
       "2       0  39650.0      0       Q28      Q  169.529148     365.0        2   \n",
       "3       0  12600.0      1        L6      L   58.894688     365.0        1   \n",
       "4      10   9065.0      0        N4      N  109.631885     365.0        2   \n",
       "\n",
       "   Numtpbi  Indtppd  Indtpbi  \n",
       "0        0      0.0      0.0  \n",
       "1        0      0.0      0.0  \n",
       "2        0      0.0      0.0  \n",
       "3        0      0.0      0.0  \n",
       "4        0      0.0      0.0  "
      ]
     },
     "execution_count": 63,
     "metadata": {},
     "output_type": "execute_result"
    }
   ],
   "source": [
    "# Import des données :\n",
    "df =  pd.read_csv(\"training_clean.csv\")\n",
    "df.head()"
   ]
  },
  {
   "cell_type": "markdown",
   "metadata": {},
   "source": [
    "# 2 - Retraitement des données : <a class=\"anchor\" id=\"retraitements\"></a>"
   ]
  },
  {
   "cell_type": "code",
   "execution_count": 67,
   "metadata": {},
   "outputs": [],
   "source": [
    "# Suppression des données erronées :\n",
    "df2 = df.iloc[21:]"
   ]
  },
  {
   "cell_type": "code",
   "execution_count": 69,
   "metadata": {},
   "outputs": [],
   "source": [
    "categorical_columns = df.select_dtypes(include=['object', 'category']).columns.tolist()\n",
    "numerical_columns = df.select_dtypes(include=[np.number]).columns.tolist()\n",
    "numerical_columns.remove('Numtpbi')  \n",
    "\n",
    "preprocessor = ColumnTransformer(\n",
    "    transformers=[\n",
    "        ('num', 'passthrough', numerical_columns),\n",
    "        ('cat', OneHotEncoder(), categorical_columns)])\n",
    "\n",
    "\n"
   ]
  },
  {
   "cell_type": "code",
   "execution_count": 71,
   "metadata": {},
   "outputs": [
    {
     "data": {
      "text/plain": [
       "(0.03127150249950512, 0.34092641401123736)"
      ]
     },
     "execution_count": 71,
     "metadata": {},
     "output_type": "execute_result"
    }
   ],
   "source": [
    "# Define the regression model pipeline\n",
    "model = Pipeline(steps=[('preprocessor', preprocessor),\n",
    "                        ('regressor', LinearRegression())])\n",
    "\n",
    "# Split the data into features and target variable\n",
    "X = df.drop('Numtpbi', axis=1)\n",
    "y = df['Numtpbi']\n",
    "\n",
    "# Split the data into training and testing sets\n",
    "X_train, X_test, y_train, y_test = train_test_split(X, y, test_size=0.2, random_state=42)\n",
    "\n",
    "# Train the model\n",
    "model.fit(X_train, y_train)\n",
    "\n",
    "# Make predictions\n",
    "y_pred = model.predict(X_test)\n",
    "\n",
    "# Evaluate the model\n",
    "mse = mean_squared_error(y_test, y_pred)\n",
    "r2 = r2_score(y_test, y_pred)\n",
    "\n",
    "mse, r2"
   ]
  },
  {
   "cell_type": "code",
   "execution_count": 72,
   "metadata": {},
   "outputs": [
    {
     "data": {
      "text/plain": [
       "(0.0019639277855571114, 0.9586085469263723)"
      ]
     },
     "execution_count": 72,
     "metadata": {},
     "output_type": "execute_result"
    }
   ],
   "source": [
    "\n",
    "# Define the regression model pipeline with a random forest regressor\n",
    "model_rf = Pipeline(steps=[('preprocessor', preprocessor),\n",
    "                           ('regressor', RandomForestRegressor(random_state=42))])\n",
    "\n",
    "\n",
    "model_rf.fit(X_train, y_train)\n",
    "\n",
    "y_pred_rf = model_rf.predict(X_test)\n",
    "mse_rf = mean_squared_error(y_test, y_pred_rf)\n",
    "r2_rf = r2_score(y_test, y_pred_rf)\n",
    "\n",
    "mse_rf, r2_rf\n"
   ]
  },
  {
   "cell_type": "code",
   "execution_count": 87,
   "metadata": {},
   "outputs": [
    {
     "name": "stdout",
     "output_type": "stream",
     "text": [
      "Meilleurs paramètres trouvés pour la forêt aléatoire: {'regressor__max_depth': 10, 'regressor__min_samples_leaf': 2, 'regressor__min_samples_split': 2, 'regressor__n_estimators': 50}\n",
      "Meilleur score R² pour la forêt aléatoire: 0.9625312561295352\n"
     ]
    }
   ],
   "source": [
    "param_grid_rf = {\n",
    "    'regressor__n_estimators': [10, 50, 100],  # Nombre d'arbres\n",
    "    'regressor__max_depth': [None, 10, 20],  # Profondeur maximale des arbres\n",
    "    'regressor__min_samples_split': [2, 4],  # Nombre minimal d'échantillons requis pour diviser un nœud interne\n",
    "    'regressor__min_samples_leaf': [1, 2]  # Nombre minimal d'échantillons requis pour être au niveau d'un nœud feuille\n",
    "}\n",
    "\n",
    "# Configuration et exécution de la recherche sur grille\n",
    "grid_search_rf = GridSearchCV(model_rf, param_grid_rf, cv=3, scoring='r2', n_jobs=-1)\n",
    "grid_search_rf.fit(X_train, y_train)\n",
    "\n",
    "best_model_rf = grid_search_rf.best_estimator_\n",
    "y_pred_rf = best_model_rf.predict(X_test)\n",
    "# Affichage des meilleurs paramètres et du meilleur score R²\n",
    "print(\"Meilleurs paramètres trouvés pour la forêt aléatoire:\", grid_search_rf.best_params_)\n",
    "print(\"Meilleur score R² pour la forêt aléatoire:\", grid_search_rf.best_score_)"
   ]
  },
  {
   "cell_type": "code",
   "execution_count": null,
   "metadata": {},
   "outputs": [
    {
     "name": "stdout",
     "output_type": "stream",
     "text": [
      "Fitting 3 folds for each of 45 candidates, totalling 135 fits\n"
     ]
    }
   ],
   "source": [
    "model_xgb = Pipeline(steps=[\n",
    "    ('preprocessor', preprocessor),\n",
    "    ('regressor', XGBRegressor(objective='reg:squarederror', random_state=42))])\n",
    "param_grid_xgb = {\n",
    "    'regressor__n_estimators': [100, 200, 300],\n",
    "    'regressor__learning_rate': [0.01, 0.1, 0.3],\n",
    "    'regressor__max_depth': [3, 6, 9],\n",
    "    'regressor__min_child_weight': [1, 3, 5],\n",
    "    'regressor__subsample': [0.7, 0.8, 0.9],\n",
    "    'regressor__colsample_bytree': [0.7, 0.8, 0.9],\n",
    "}\n",
    "\n",
    "grid_search_xgb = GridSearchCV(model_xgb, param_grid_xgb, cv=3, scoring='r2', n_jobs=-1, verbose=2)\n",
    "grid_search.fit(X_train, y_train)\n",
    "\n",
    "best_model_x= grid_search_rf.best_estimator_\n",
    "y_pred_rf = best_model_x.predict(X_test)\n",
    "print(\"Meilleurs paramètres trouvés :\", grid_search_x.best_params_)\n",
    "print(\"Meilleur score R² :\", grid_search_x.best_score_)"
   ]
  },
  {
   "cell_type": "code",
   "execution_count": null,
   "metadata": {},
   "outputs": [],
   "source": [
    "model_svr = Pipeline(steps=[\n",
    "    ('preprocessor', preprocessor),\n",
    "    ('regressor', SVR())\n",
    "]) \n",
    "\n",
    "# Définition de la grille d'hyperparamètres pour SVR\n",
    "param_grid = {\n",
    "    'regressor__C': [0.1, 1, 10],\n",
    "    'regressor__gamma': ['scale', 'auto', 0.1, 1, 10],\n",
    "    'regressor__kernel': ['linear', 'rbf', 'poly']\n",
    "}\n",
    "\n",
    "# Configuration et exécution de la recherche sur grille\n",
    "grid_search = GridSearchCV(model_svr, param_grid, cv=3, scoring='r2', n_jobs=-1, verbose=2)\n",
    "grid_search.fit(X_train, y_train)\n",
    "\n",
    "best_model = grid_search.best_estimator_\n",
    "y_pred_rf = best_model.predict(X_test)\n",
    "# Affichage des meilleurs paramètres et du meilleur score R²\n",
    "print(\"Meilleurs paramètres trouvés :\", grid_search.best_params_)\n",
    "print(\"Meilleur score R² :\", grid_search.best_score_)"
   ]
  },
  {
   "cell_type": "code",
   "execution_count": null,
   "metadata": {},
   "outputs": [],
   "source": [
    "dataProv = pd.DataFrame(X_test.index)\n",
    "dataProv.columns = ['index']\n",
    "\n",
    "# Ajout des valeurs observées de la variable cible\n",
    "dataProv['Obs'] = y_test.reset_index(drop=True)\n",
    "\n",
    "# Ajout des prédictions de la régression linéaire\n",
    "dataProv['Pred_svm'] = y_pred  # Assurez-vous que y_pred contient les prédictions de la régression linéaire\n",
    "\n",
    "# Ajout des prédictions de la forêt aléatoire\n",
    "dataProv['Pred_rf'] = y_pred_rf  # Assurez-vous que y_pred_rf contient les prédictions de la forêt aléatoire\n",
    "\n",
    "# Ajout des prédictions du modèle XGBoost\n",
    "dataProv['Pred_xgb'] = y_pred_xgb  "
   ]
  },
  {
   "cell_type": "code",
   "execution_count": null,
   "metadata": {
    "scrolled": true
   },
   "outputs": [],
   "source": [
    "dataFinale = df2.copy().reset_index().merge(dataProv)\n",
    "dataFinale.head()"
   ]
  },
  {
   "cell_type": "code",
   "execution_count": null,
   "metadata": {},
   "outputs": [],
   "source": [
    "for var in dataFinale.columns[3:16]:\n",
    "#     dataFinale.groupby([var])[['Obs', 'Pred_model', 'Pred_knn', 'Pred_tree', 'Pred_xgb']].mean().plot()\n",
    "    dataPlot = dataFinale.groupby([var])[['Obs', 'Pred_svm','Pred_rf', 'Pred_xgb']].mean()\n",
    "        \n",
    "    if dataFinale[var].dtypes == 'O':\n",
    "        dataPlot.plot(kind='bar')\n",
    "    else:\n",
    "        dataPlot.plot()"
   ]
  },
  {
   "cell_type": "code",
   "execution_count": null,
   "metadata": {
    "scrolled": true
   },
   "outputs": [],
   "source": [
    "for var in dataFinale.columns[3:16]:\n",
    "#     dataFinale.groupby([var])[['Obs', 'Pred_model', 'Pred_knn', 'Pred_tree', 'Pred_xgb']].mean().plot()\n",
    "    dataPlot = dataFinale.groupby([var])[['Obs', 'Pred_svm','Pred_rf', 'Pred_xgb']].mean()\n",
    "    dataPlot['Ecart_Pred_model'] = dataPlot['Pred_model'] / dataPlot['Obs'] - 1\n",
    "    dataPlot['Ecart_Pred_xgb'] = dataPlot['Pred_xgb'] / dataPlot['Obs'] - 1\n",
    "#     dataPlot['Ecart_Pred_xgb_grid'] = dataPlot['Pred_xgb_grid'] / dataPlot['Obs'] - 1\n",
    "        \n",
    "    if dataFinale[var].dtypes == 'O':\n",
    "        dataPlot[['Ecart_Pred_model', 'Ecart_Pred_xgb']].plot(kind='bar')\n",
    "    else:\n",
    "        dataPlot[['Ecart_Pred_model', 'Ecart_Pred_xgb']].plot()"
   ]
  },
  {
   "cell_type": "code",
   "execution_count": 51,
   "metadata": {},
   "outputs": [
    {
     "ename": "NameError",
     "evalue": "name 'p_knn' is not defined",
     "output_type": "error",
     "traceback": [
      "\u001b[1;31m---------------------------------------------------------------------------\u001b[0m",
      "\u001b[1;31mNameError\u001b[0m                                 Traceback (most recent call last)",
      "\u001b[1;32m<ipython-input-51-35b7e44f0823>\u001b[0m in \u001b[0;36m<module>\u001b[1;34m\u001b[0m\n\u001b[0;32m      5\u001b[0m \u001b[1;33m\u001b[0m\u001b[0m\n\u001b[0;32m      6\u001b[0m \u001b[0mfpr0\u001b[0m\u001b[1;33m,\u001b[0m \u001b[0mtpr0\u001b[0m\u001b[1;33m,\u001b[0m \u001b[0mthresholds0\u001b[0m \u001b[1;33m=\u001b[0m \u001b[0mroc_curve\u001b[0m\u001b[1;33m(\u001b[0m\u001b[0mZ_test\u001b[0m\u001b[1;33m,\u001b[0m \u001b[0mp_model\u001b[0m\u001b[1;33m)\u001b[0m\u001b[1;33m\u001b[0m\u001b[1;33m\u001b[0m\u001b[0m\n\u001b[1;32m----> 7\u001b[1;33m \u001b[0mfpr1\u001b[0m\u001b[1;33m,\u001b[0m \u001b[0mtpr1\u001b[0m\u001b[1;33m,\u001b[0m \u001b[0mthresholds1\u001b[0m \u001b[1;33m=\u001b[0m \u001b[0mroc_curve\u001b[0m\u001b[1;33m(\u001b[0m\u001b[0mZ_test\u001b[0m\u001b[1;33m,\u001b[0m \u001b[0mp_knn\u001b[0m\u001b[1;33m)\u001b[0m\u001b[1;33m\u001b[0m\u001b[1;33m\u001b[0m\u001b[0m\n\u001b[0m\u001b[0;32m      8\u001b[0m \u001b[0mfpr2\u001b[0m\u001b[1;33m,\u001b[0m \u001b[0mtpr2\u001b[0m\u001b[1;33m,\u001b[0m \u001b[0mthresholds2\u001b[0m \u001b[1;33m=\u001b[0m \u001b[0mroc_curve\u001b[0m\u001b[1;33m(\u001b[0m\u001b[0mZ_test\u001b[0m\u001b[1;33m,\u001b[0m \u001b[0mp_tree\u001b[0m\u001b[1;33m)\u001b[0m\u001b[1;33m\u001b[0m\u001b[1;33m\u001b[0m\u001b[0m\n\u001b[0;32m      9\u001b[0m \u001b[0mfpr3\u001b[0m\u001b[1;33m,\u001b[0m \u001b[0mtpr3\u001b[0m\u001b[1;33m,\u001b[0m \u001b[0mthresholds3\u001b[0m \u001b[1;33m=\u001b[0m \u001b[0mroc_curve\u001b[0m\u001b[1;33m(\u001b[0m\u001b[0mZ_test\u001b[0m\u001b[1;33m,\u001b[0m \u001b[0mp_xgb\u001b[0m\u001b[1;33m)\u001b[0m\u001b[1;33m\u001b[0m\u001b[1;33m\u001b[0m\u001b[0m\n",
      "\u001b[1;31mNameError\u001b[0m: name 'p_knn' is not defined"
     ]
    }
   ],
   "source": [
    "from sklearn.metrics import roc_auc_score, roc_curve, auc\n",
    "\n",
    "Z_test = Y_test.copy()\n",
    "Z_test[Z_test > 1] = 1\n",
    "\n",
    "fpr0, tpr0, thresholds0 = roc_curve(Z_test, p_model)\n",
    "fpr3, tpr3, thresholds3 = roc_curve(Z_test, p_xgb)\n",
    "fpr4, tpr4, thresholds4 = roc_curve(Z_test, p_xgb_grid)\n",
    "\n",
    "auc0 = auc(fpr0, tpr0)\n",
    "auc1 = auc(fpr1, tpr1)\n",
    "auc2 = auc(fpr2, tpr2)\n",
    "auc3 = auc(fpr3, tpr3)\n",
    "auc4 = auc(fpr4, tpr4)\n"
   ]
  },
  {
   "cell_type": "code",
   "execution_count": null,
   "metadata": {},
   "outputs": [],
   "source": [
    "fig, ax = plt.subplots(1, 1, figsize=(4,4))\n",
    "ax.plot([0, 1], [0, 1], 'k--')\n",
    "ax.plot(fpr0, tpr0, label='p_model' + ' auc=%1.5f' % auc0)\n",
    "ax.plot(fpr1, tpr1, label='p_knn' + ' auc=%1.5f' % auc1)\n",
    "ax.plot(fpr2, tpr2, label='p_tree' + ' auc=%1.5f' % auc2)\n",
    "ax.plot(fpr3, tpr3, label='p_xgb' + ' auc=%1.5f' % auc3)\n",
    "ax.plot(fpr4, tpr4, label='p_xgb_grid' + ' auc=%1.5f' % auc4)\n",
    "ax.set_title('Courbe ROC - classifieur couleur des vins')\n",
    "ax.legend()"
   ]
  },
  {
   "cell_type": "code",
   "execution_count": null,
   "metadata": {},
   "outputs": [],
   "source": []
  },
  {
   "cell_type": "code",
   "execution_count": null,
   "metadata": {},
   "outputs": [],
   "source": []
  },
  {
   "cell_type": "code",
   "execution_count": null,
   "metadata": {},
   "outputs": [],
   "source": []
  }
 ],
 "metadata": {
  "kernelspec": {
   "display_name": "Python 3 (ipykernel)",
   "language": "python",
   "name": "python3"
  },
  "language_info": {
   "codemirror_mode": {
    "name": "ipython",
    "version": 3
   },
   "file_extension": ".py",
   "mimetype": "text/x-python",
   "name": "python",
   "nbconvert_exporter": "python",
   "pygments_lexer": "ipython3",
   "version": "3.11.6"
  }
 },
 "nbformat": 4,
 "nbformat_minor": 4
}
